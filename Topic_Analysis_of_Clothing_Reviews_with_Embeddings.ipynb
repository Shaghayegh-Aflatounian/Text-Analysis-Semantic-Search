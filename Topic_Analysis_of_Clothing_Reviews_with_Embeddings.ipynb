{
  "nbformat": 4,
  "nbformat_minor": 0,
  "metadata": {
    "colab": {
      "provenance": [],
      "authorship_tag": "ABX9TyOFc0LqXzJB2ty2bEHkii7V",
      "include_colab_link": true
    },
    "kernelspec": {
      "name": "python3",
      "display_name": "Python 3"
    },
    "language_info": {
      "name": "python"
    }
  },
  "cells": [
    {
      "cell_type": "markdown",
      "metadata": {
        "id": "view-in-github",
        "colab_type": "text"
      },
      "source": [
        "<a href=\"https://colab.research.google.com/github/Shaghayegh-Aflatounian/Text-Analysis-Semantic-Search/blob/main/Topic_Analysis_of_Clothing_Reviews_with_Embeddings.ipynb\" target=\"_parent\"><img src=\"https://colab.research.google.com/assets/colab-badge.svg\" alt=\"Open In Colab\"/></a>"
      ]
    },
    {
      "cell_type": "markdown",
      "source": [
        "Welcome to the world of e-commerce, where customer feedback is a goldmine of insights! In this project, you'll dive into the Women's Clothing E-Commerce Reviews dataset, focusing on the 'Review Text' column filled with direct customer opinions.\n",
        "\n",
        "Your mission is to use text embeddings and Python to analyze these reviews, uncover underlying themes, and understand customer sentiments. This analysis will help improve customer service and product offerings."
      ],
      "metadata": {
        "id": "Ke5gb5-SN6ja"
      }
    },
    {
      "cell_type": "markdown",
      "source": [
        "**Create and store the embeddings**\n",
        "Embed the reviews using a suitable text embedding algorithm and store them as list in the variable embeddings.\n",
        "\n",
        "**Dimensionality reduction & visualization**\n",
        "Apply an appropriate dimensionality reduction technique to reduce the embeddings to a 2-dimensional numpy array and store this array in the variable embeddings_2d.\n",
        "Then, use this variable to plot a 2D visual representation of the reviews.\n",
        "\n",
        "**Feedback categorization**\n",
        "Use your embeddings to identify some reviews that discuss topics such as 'quality', 'fit', 'style', 'comfort', etc.\n",
        "\n",
        "**Similarity search function**\n",
        "Write a function that outputs the closest 3 reviews to a given input review, enabling a more personalized customer service response.\n",
        "Apply this function to the first review \"Absolutely wonderful - silky and sexy and comfortable\", and store the output as a list in the variable most_similar_reviews."
      ],
      "metadata": {
        "id": "0tM2EDSpeUax"
      }
    },
    {
      "cell_type": "code",
      "execution_count": null,
      "metadata": {
        "id": "Pf1GCASDN3c8"
      },
      "outputs": [],
      "source": [
        "# Import required libraries\n",
        "import os\n",
        "import openai\n",
        "import pandas as pd\n",
        "import numpy as np\n",
        "from sklearn.manifold import TSNE\n",
        "import matplotlib.pyplot as plt\n",
        "import chromadb\n",
        "from scipy.spatial import distance\n",
        "from chromadb.utils.embedding_functions import OpenAIEmbeddingFunction\n",
        "\n",
        "# Initialize your API key\n",
        "openai_api_key = os.environ[\"OPENAI_API_KEY\"]\n",
        "\n",
        "EMBEDDING_MODEL = \"text-embedding-ada-002\"\n",
        "\n",
        "# Load the dataset\n",
        "reviews = pd.read_csv(\"womens_clothing_e-commerce_reviews.csv\")\n",
        "review_texts = reviews[\"Review Text\"].dropna()\n",
        "\n",
        "# Create and store the embeddings for reviews in one API call\n",
        "client = openai.OpenAI(api_key=openai_api_key)\n",
        "responses = client.embeddings.create(input=review_texts.tolist(), model=EMBEDDING_MODEL).model_dump()\n",
        "embeddings = [response[\"embedding\"] for response in responses[\"data\"]]\n"
      ]
    },
    {
      "cell_type": "code",
      "source": [
        "\n",
        "\n",
        "# Apply t-SNE for dimensionality reduction\n",
        "def apply_tsne(embeddings):\n",
        "    tsne = TSNE(n_components=2, random_state=0)\n",
        "    return tsne.fit_transform(embeddings)\n",
        "\n",
        "embeddings_2d = apply_tsne(np.array(embeddings))\n",
        "\n",
        "# Plotting the results of t-SNE\n",
        "def plot_tsne(tsne_results):\n",
        "    plt.figure(figsize=(12, 8))\n",
        "    for i, point in enumerate(tsne_results):\n",
        "        plt.scatter(point[0], point[1], alpha=0.5)\n",
        "        plt.text(point[0], point[1], str(i), fontsize=8, verticalalignment='center')\n",
        "    plt.title(\"t-SNE Visualization of Review Embeddings\")\n",
        "    plt.xlabel(\"t-SNE feature 1\")\n",
        "    plt.ylabel(\"t-SNE feature 2\")\n",
        "    plt.show()\n",
        "\n",
        "plot_tsne(embeddings_2d)\n"
      ],
      "metadata": {
        "id": "dYZTZhvxisrQ"
      },
      "execution_count": null,
      "outputs": []
    },
    {
      "cell_type": "markdown",
      "source": [
        "Semantic search and enriched embeddings\n",
        "Inorder to do a semantic search we first need to embed the search query and other text then compute the cosine distance and extract the text with smallest cosine distance\n"
      ],
      "metadata": {
        "id": "qFtqrCk4gf6M"
      }
    },
    {
      "cell_type": "code",
      "source": [
        "\n",
        "# Define topics\n",
        "categories = [\"Quality\", \"Fit\", \"Style\", \"Comfort\"]\n",
        "\n",
        "# Create embeddings for all categories in one API call\n",
        "category_responses = client.embeddings.create(input=categories, model=EMBEDDING_MODEL).model_dump()\n",
        "\n",
        "# Extract embeddings from the responses and map them to their respective categories\n",
        "category_embeddings = [embedding[\"embedding\"] for embedding in category_responses[\"data\"]]\n",
        "\n",
        "\n",
        "# Function to categorize feedback\n",
        "def categorize_feedback(text_embedding, category_embeddings):\n",
        "    similarities = [{\"distance\": distance.cosine(text_embedding, cat_emb), \"index\":i}\n",
        "                     for i, cat_emb in enumerate(category_embeddings)]\n",
        "    closest = min(similarities, key=lambda x: x[\"index\"])\n",
        "    return categories[closest[\"index\"]]\n",
        "\n",
        "# Categorize feedback\n",
        "feedback_categories = [categorize_feedback(embedding, category_embeddings) for embedding in embeddings]\n",
        "\n"
      ],
      "metadata": {
        "id": "4MSZGMWViv1E"
      },
      "execution_count": null,
      "outputs": []
    },
    {
      "cell_type": "markdown",
      "source": [
        "**Creating a vector database**> A vector database, like Chromadb in this case, is a type of database that is specifically designed to store and query vector data efficiently. In the context of natural language processing and machine learning, vectors are often used to represent embeddings of text or other data points in a high-dimensional space."
      ],
      "metadata": {
        "id": "gMGaS1N_iMuQ"
      }
    },
    {
      "cell_type": "code",
      "source": [
        "\n",
        "\n",
        "# Initialize Chromadb instance for vector storage\n",
        "client = chromadb.PersistentClient()\n",
        "\n",
        "# Define vector database\n",
        "review_embeddings_db = client.create_collection(\n",
        "    name=\"review_embeddings\",\n",
        "    embedding_function=OpenAIEmbeddingFunction(api_key=openai_api_key))\n",
        "\n",
        "# Store embeddings inside vector database\n",
        "review_embeddings_db.add(\n",
        "    documents=review_texts.tolist(),\n",
        "    ids=[str(i) for i in range(len(review_texts))]\n",
        ")\n",
        "\n",
        "# Function for similarity search using vector db query function\n",
        "def find_similar_reviews(input_text, vector_db, n=3):\n",
        "    collection = client.get_collection(\n",
        "        name=\"review_embeddings\",\n",
        "        embedding_function=OpenAIEmbeddingFunction(api_key=openai_api_key))\n",
        "    results = collection.query(\n",
        "        query_texts=[input_text],\n",
        "        n_results=n\n",
        "    )\n",
        "    return results\n",
        "\n"
      ],
      "metadata": {
        "id": "SkBBkPLEiL9m"
      },
      "execution_count": null,
      "outputs": []
    },
    {
      "cell_type": "code",
      "source": [
        "# Example feedback and finding similar feedback\n",
        "example_review = \"Absolutely wonderful - silky and sexy and comfortable\"\n",
        "most_similar_reviews = find_similar_reviews(example_review, review_embeddings_db, 3)[\"documents\"][0]\n",
        "print(most_similar_reviews)\n",
        "\n",
        "# Clean up\n",
        "client.delete_collection(name=\"review_embeddings\")"
      ],
      "metadata": {
        "id": "Amg_7Exmoc5q"
      },
      "execution_count": null,
      "outputs": []
    }
  ]
}